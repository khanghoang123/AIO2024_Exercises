{
 "cells": [
  {
   "cell_type": "markdown",
   "metadata": {},
   "source": [
    "Bài 1:"
   ]
  },
  {
   "cell_type": "code",
   "execution_count": 1,
   "metadata": {},
   "outputs": [
    {
     "name": "stdout",
     "output_type": "stream",
     "text": [
      "Presion is 0.4\n",
      "Recall is 0.3333333333333333\n",
      "F1-score is 1.3333333333333333\n",
      "tp must be int\n",
      "fp must be int\n",
      "fn must be int\n",
      "tp and fn and fn must be greater than zero\n",
      "tp must be int\n"
     ]
    }
   ],
   "source": [
    "def classification(tp,fp,fn):\n",
    "    if not isinstance(tp,int):\n",
    "        print('tp must be int')\n",
    "        return \n",
    "    if not isinstance(fp,int):\n",
    "        print('fp must be int')\n",
    "        return \n",
    "\n",
    "    if not isinstance(fn,int):\n",
    "        print('fn must be int')\n",
    "        return \n",
    "    \n",
    "    if tp<=0 or fp<=0 or fn<=0:\n",
    "        print('tp and fn and fn must be greater than zero')\n",
    "        return\n",
    "    \n",
    "    Precision=tp/(tp+fp)\n",
    "    Recall=tp/(tp+fn)\n",
    "    F1_score=2*((Precision*Recall)/Precision+Recall)\n",
    "    print(f'Presion is {Precision}')\n",
    "    print(f'Recall is {Recall}')\n",
    "    print(f'F1-score is {F1_score}')\n",
    "\n",
    "if __name__=='__main__':\n",
    "    classification(tp=2, fp=3, fn=4)\n",
    "    classification(tp='a', fp=3, fn=4)\n",
    "    classification(tp=2, fp='a', fn=4)\n",
    "    classification(tp=2, fp=3, fn='a')\n",
    "    classification(tp=2, fp=3, fn=0)\n",
    "    classification(tp=2.1, fp=3, fn=0)"
   ]
  },
  {
   "cell_type": "markdown",
   "metadata": {},
   "source": [
    "Bài 2:"
   ]
  },
  {
   "cell_type": "code",
   "execution_count": 2,
   "metadata": {},
   "outputs": [
    {
     "name": "stdout",
     "output_type": "stream",
     "text": [
      "x must be a number\n"
     ]
    }
   ],
   "source": [
    "from math import*\n",
    "def is_number(n):\n",
    "    try:\n",
    "        float(n)\n",
    "    except ValueError:\n",
    "        return False\n",
    "    return True\n",
    "def activation():\n",
    "    x=input('Input x = ')\n",
    "    if is_number(x)==False:\n",
    "        print('x must be a number')\n",
    "    else:\n",
    "        activation=input('Input activation Function (sigmoid|relu|elu): ')\n",
    "        \n",
    "        if activation!='sigmoid' and activation!='relu' and activation!='elu':\n",
    "            print(f'{activation} is not supportted')\n",
    "        if activation =='sigmoid':\n",
    "            sigmoid=1/(1+e**(-float(x)))\n",
    "            print(f'f({x}) = {sigmoid}')\n",
    "        elif activation == 'relu':\n",
    "            if x<=0:\n",
    "                print(0)\n",
    "            else:\n",
    "                print(f'relu({x}) = {x}')\n",
    "        elif activation=='elu':\n",
    "            if x<=0:\n",
    "                print(f'ELU({x}) = {0.01*(e**float(x)-1)}')\n",
    "            else:\n",
    "                print(f'ELU({x}) = {x}')\n",
    "if __name__=='__main__':\n",
    "    activation()"
   ]
  },
  {
   "cell_type": "markdown",
   "metadata": {},
   "source": [
    "Bài 3:"
   ]
  },
  {
   "cell_type": "code",
   "execution_count": 3,
   "metadata": {},
   "outputs": [
    {
     "name": "stdout",
     "output_type": "stream",
     "text": [
      "number of samples must be an integer number\n"
     ]
    }
   ],
   "source": [
    "import random\n",
    "def regression_selection():\n",
    "    num_samples=input('Input number of samples (integer number) which are generated: ')\n",
    "    if not num_samples.isnumeric():\n",
    "        print('number of samples must be an integer number')\n",
    "        return \n",
    "    else:\n",
    "        num_samples=int(num_samples)\n",
    "        lossname=input('Input loss name: ')\n",
    "        target=[random.uniform(0,10) for i in range(num_samples)]\n",
    "        predict=[random.uniform(0,10) for i in range(num_samples)]\n",
    "        loss=0\n",
    "        mae,mse,rmse=0,0,0\n",
    "        for i in range(num_samples):\n",
    "            if lossname=='MAE':\n",
    "                mae+=abs(target[i]-predict[i])\n",
    "                print(f'lossname: {lossname} , sample: {i} , pred: {predict[i]}, target: {target[i]} , loss: {mae}')\n",
    "            if lossname=='MSE':\n",
    "                mse+=(target[i]-predict[i])**2\n",
    "                print(f'lossname: {lossname} , sample: {i} , pred: {predict[i]}, target: {target[i]} , loss: {mse}')\n",
    "            if lossname=='RMSE':\n",
    "                rmse+=(target[i]-predict[i])**2\n",
    "                print(f'lossname: {lossname} , sample: {i} , pred: {predict[i]}, target: {target[i]} , loss: {rmse}')\n",
    "        if lossname=='MAE' or lossname=='MSE':\n",
    "            loss=(1/num_samples)*(mae+mse)\n",
    "            print(f'final {lossname}: {loss}')\n",
    "        elif lossname=='RMSE':\n",
    "            loss=sqrt((1/num_samples)*rmse)\n",
    "            print(f'final {lossname}: {loss}')\n",
    "if __name__=='__main__':\n",
    "    regression_selection()\n",
    "        \n",
    "    "
   ]
  },
  {
   "cell_type": "markdown",
   "metadata": {},
   "source": [
    "Bài 4:"
   ]
  },
  {
   "cell_type": "code",
   "execution_count": 4,
   "metadata": {},
   "outputs": [
    {
     "name": "stdout",
     "output_type": "stream",
     "text": [
      "0.001592652393160744\n",
      "-0.9999987352210833\n",
      "11.530292029865986\n",
      "11.573574824666185\n"
     ]
    }
   ],
   "source": [
    "def approx_sin(x,n):\n",
    "    res=0\n",
    "    for i in range(n):\n",
    "        res+=(-1)**i*(x**(2*i+1))/factorial(2*i+1)\n",
    "    return res\n",
    "def approx_cos(x,n):\n",
    "    res=0\n",
    "    for i in range(n):\n",
    "        res+=(-1)**i*(x**(2*i))/factorial(2*i)\n",
    "    return res\n",
    "def approx_sinh(x,n):\n",
    "    res=0\n",
    "    for i in range(n):\n",
    "        res+=(x**(2*i+1))/factorial(2*i+1)\n",
    "    return res\n",
    "def approx_cosh(x,n):\n",
    "    res=0\n",
    "    for i in range(n):\n",
    "        res+=x**(2*i)/factorial(2*i)\n",
    "    return res\n",
    "print(approx_sin(x=3.14, n=10))\n",
    "print(approx_cos(x=3.14, n=10))\n",
    "print(approx_sinh(x=3.14, n=10))\n",
    "print(approx_cosh(x=3.14, n=10))"
   ]
  },
  {
   "cell_type": "markdown",
   "metadata": {},
   "source": [
    "Bài 5:"
   ]
  },
  {
   "cell_type": "code",
   "execution_count": 8,
   "metadata": {},
   "outputs": [
    {
     "name": "stdout",
     "output_type": "stream",
     "text": [
      "0.025031328369998107\n",
      "0.03544417213033135\n",
      "0.05625552183565574\n",
      "0.45836890322464546\n"
     ]
    }
   ],
   "source": [
    "def md_nre_single_sample(y,y_hat,n,p):\n",
    "    md_nre=(y**(1/n)-y_hat**(1/n))**p\n",
    "    return md_nre\n",
    "if __name__=='__main__':\n",
    "    print(md_nre_single_sample ( y =100 , y_hat =99.5 , n =2 , p =1))\n",
    "    print(md_nre_single_sample ( y =50 , y_hat =49.5 , n =2 , p =1))\n",
    "    print(md_nre_single_sample ( y =20 , y_hat =19.5 , n =2 , p =1))\n",
    "    print(md_nre_single_sample ( y =0.6 , y_hat =0.1 , n =2 , p =1))\n"
   ]
  }
 ],
 "metadata": {
  "kernelspec": {
   "display_name": "base",
   "language": "python",
   "name": "python3"
  },
  "language_info": {
   "codemirror_mode": {
    "name": "ipython",
    "version": 3
   },
   "file_extension": ".py",
   "mimetype": "text/x-python",
   "name": "python",
   "nbconvert_exporter": "python",
   "pygments_lexer": "ipython3",
   "version": "3.11.7"
  }
 },
 "nbformat": 4,
 "nbformat_minor": 2
}
