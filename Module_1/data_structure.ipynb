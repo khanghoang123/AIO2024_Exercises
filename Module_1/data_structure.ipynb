{
 "cells": [
  {
   "cell_type": "markdown",
   "metadata": {},
   "source": [
    "Bài 1:"
   ]
  },
  {
   "cell_type": "code",
   "execution_count": null,
   "metadata": {},
   "outputs": [],
   "source": [
    "num_list=[3,4,5,1,-44,5,10,12,33,1]\n",
    "k=3\n",
    "output=[ max(num_list[i:i+k]) for i in range(len(num_list)-k+1)]\n",
    "print(output)"
   ]
  },
  {
   "cell_type": "markdown",
   "metadata": {},
   "source": [
    "Bài 2:"
   ]
  },
  {
   "cell_type": "code",
   "execution_count": null,
   "metadata": {},
   "outputs": [],
   "source": [
    "def count_chars(string):\n",
    "    d={}\n",
    "    for char in string:\n",
    "        if char in d:\n",
    "            d[char]+=1\n",
    "        else:\n",
    "            d[char]=1\n",
    "    print(d)"
   ]
  },
  {
   "cell_type": "code",
   "execution_count": null,
   "metadata": {},
   "outputs": [],
   "source": [
    "string='Happiness'\n",
    "count_chars(string)\n",
    "string='smiles'\n",
    "count_chars(string)"
   ]
  },
  {
   "cell_type": "markdown",
   "metadata": {},
   "source": [
    "Bài 3:"
   ]
  },
  {
   "cell_type": "code",
   "execution_count": null,
   "metadata": {},
   "outputs": [],
   "source": [
    "def word_count(file_path):\n",
    "    f=open(f'{file_path}','r')\n",
    "    data=f.read()\n",
    "    data= sorted(data.lower().split())\n",
    "    d={}\n",
    "    for word in data:\n",
    "        if word in d:\n",
    "            d[word]+=1\n",
    "        else:\n",
    "            d[word]=1\n",
    "    return d"
   ]
  },
  {
   "cell_type": "code",
   "execution_count": null,
   "metadata": {},
   "outputs": [],
   "source": [
    "file_path='P1_data.txt'\n",
    "word_count('P1_data.txt')"
   ]
  },
  {
   "cell_type": "markdown",
   "metadata": {},
   "source": [
    "Bài 3:"
   ]
  },
  {
   "cell_type": "code",
   "execution_count": null,
   "metadata": {},
   "outputs": [],
   "source": [
    "def word_count(file_path):\n",
    "    d={}\n",
    "    with open(f'{file_path}','r') as f:\n",
    "        data=f.read()\n",
    "        f.close()\n",
    "    data=data.lower().split()\n",
    "    for word in data:\n",
    "        if word in d:\n",
    "            d[word]+=1\n",
    "        else:\n",
    "            d[word]=1\n",
    "    return d\n",
    "    "
   ]
  },
  {
   "cell_type": "code",
   "execution_count": null,
   "metadata": {},
   "outputs": [],
   "source": [
    "file_path='./P1_data.txt'\n",
    "word_count(file_path)\n"
   ]
  },
  {
   "cell_type": "markdown",
   "metadata": {},
   "source": [
    "Bài 4:"
   ]
  },
  {
   "cell_type": "code",
   "execution_count": 12,
   "metadata": {},
   "outputs": [],
   "source": [
    "def levenshtein_distances(source,target):\n",
    "    distances=[[0 for j in range(len(target)+1)]for i in range(len(source)+1)]\n",
    "    \n",
    "    for t1 in range(len(source)+1):\n",
    "        distances[t1][0]=t1\n",
    "    for t2 in range(len(target)+1):\n",
    "        distances[0][t2]=t2\n",
    "    \n",
    "    del_cost=0\n",
    "    in_cost=0\n",
    "    sub_cost=0\n",
    "    \n",
    "    for i in range(1,len(source)+1):\n",
    "        for j in range(1,len(target)+1):\n",
    "            if source[i-1]==target[j-1]:\n",
    "                distances[i][j]=distances[i-1][j-1]\n",
    "            else:\n",
    "                del_cost=distances[i-1][j]\n",
    "                in_cost=distances[i][j-1]\n",
    "                sub_cost=distances[i-1][j-1]\n",
    "                \n",
    "                if (del_cost<=in_cost) and (del_cost<=sub_cost):\n",
    "                    distances[i][j]=del_cost+1\n",
    "                elif (in_cost<=del_cost) and(in_cost<=sub_cost):\n",
    "                    distances[i][j]=in_cost+1\n",
    "                else:\n",
    "                    distances[i][j]=sub_cost+1                \n",
    "    return distances[-1][-1]\n"
   ]
  },
  {
   "cell_type": "code",
   "execution_count": 13,
   "metadata": {},
   "outputs": [
    {
     "name": "stdout",
     "output_type": "stream",
     "text": [
      "4\n"
     ]
    }
   ],
   "source": [
    "print(levenshtein_distances('hi','hello'))"
   ]
  }
 ],
 "metadata": {
  "kernelspec": {
   "display_name": "base",
   "language": "python",
   "name": "python3"
  },
  "language_info": {
   "codemirror_mode": {
    "name": "ipython",
    "version": 3
   },
   "file_extension": ".py",
   "mimetype": "text/x-python",
   "name": "python",
   "nbconvert_exporter": "python",
   "pygments_lexer": "ipython3",
   "version": "3.11.7"
  }
 },
 "nbformat": 4,
 "nbformat_minor": 2
}
